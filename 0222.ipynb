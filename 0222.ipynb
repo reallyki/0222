{
 "cells": [
  {
   "cell_type": "code",
   "execution_count": 1,
   "id": "bc6a7835",
   "metadata": {},
   "outputs": [],
   "source": [
    "# serverless -> dictionary가 중요!\n",
    "# 우리가 중요한건 json 파일!\n",
    "# Dict > Key-value 형식"
   ]
  },
  {
   "cell_type": "code",
   "execution_count": 34,
   "id": "11d1db70",
   "metadata": {},
   "outputs": [
    {
     "name": "stdout",
     "output_type": "stream",
     "text": [
      "['really', 25, 99, 31, 55, 185, 61.0, 'd']\n"
     ]
    }
   ],
   "source": [
    "list_ = ['really',25,99,31,55]\n",
    "\n",
    "tot = list_[2] + list_[3] + list_[4]\n",
    "avg = tot // 3.\n",
    "grade = None\n",
    "\n",
    "if 90 <= avg <= 100 : grade = 'A'\n",
    "elif 80 <= avg < 90 : grade = 'B'\n",
    "elif 70 <= avg < 80 : grade = 'c'\n",
    "elif 60 <= avg < 70 : grade = 'd'\n",
    "else : grade = 'F'\n",
    "                    \n",
    "                    \n",
    "list_.append(tot)\n",
    "list_.append(avg)\n",
    "list_.append(grade)\n",
    "\n",
    "print(list_)"
   ]
  },
  {
   "cell_type": "code",
   "execution_count": 7,
   "id": "66d0a266",
   "metadata": {},
   "outputs": [],
   "source": [
    "#리스트는 수정이 가능하며 데이터마다 내용을 구별하기 어렵"
   ]
  },
  {
   "cell_type": "code",
   "execution_count": 8,
   "id": "81719a33",
   "metadata": {},
   "outputs": [
    {
     "name": "stdout",
     "output_type": "stream",
     "text": [
      "name : really\n",
      "korean : 90\n",
      "English : 80\n",
      "Math : 80\n",
      "['really', 90, 80, 80]\n"
     ]
    }
   ],
   "source": [
    "stu = []\n",
    "\n",
    "name = input('name : ')\n",
    "stu.append(name)\n",
    "kor = int(input('korean : '))\n",
    "stu.append(kor)\n",
    "eng = int(input('English : '))\n",
    "stu.append(eng)\n",
    "math = int(input('Math : '))\n",
    "stu.append(math)\n",
    "\n",
    "print(stu)"
   ]
  },
  {
   "cell_type": "code",
   "execution_count": 9,
   "id": "734948a2",
   "metadata": {},
   "outputs": [],
   "source": [
    "#tuple 은 묶는데 수정이 안된다 왜? 보안때문에/ 괄호()를 생략할 수 있다."
   ]
  },
  {
   "cell_type": "code",
   "execution_count": 15,
   "id": "67a320a7",
   "metadata": {},
   "outputs": [
    {
     "name": "stdout",
     "output_type": "stream",
     "text": [
      "('really', 99, 88, 77, 66)\n"
     ]
    }
   ],
   "source": [
    "tuple_ = 'really', 99, 88, 77, 66\n",
    "\n",
    "print(tuple_)"
   ]
  },
  {
   "cell_type": "code",
   "execution_count": 33,
   "id": "3bf2213f",
   "metadata": {},
   "outputs": [
    {
     "name": "stdout",
     "output_type": "stream",
     "text": [
      "{'name': 'really', 'age': 25, 'kor': 99, 'eng': 88, 'math': 77, 'total': 264, 'average': 88.0}\n"
     ]
    }
   ],
   "source": [
    "# Dict\n",
    "student = {'name' : 'really', 'age' : 25, 'kor' : 99, 'eng' : 88, 'math' : 77}\n",
    "tot = student['kor'] + student['eng'] + student['math']\n",
    "avg = tot / 3\n",
    "student['total'] = tot\n",
    "student['average'] = avg\n",
    "\n",
    "print(student)"
   ]
  },
  {
   "cell_type": "code",
   "execution_count": 32,
   "id": "4aa841da",
   "metadata": {},
   "outputs": [
    {
     "data": {
      "text/plain": [
       "dict"
      ]
     },
     "execution_count": 32,
     "metadata": {},
     "output_type": "execute_result"
    }
   ],
   "source": [
    "type(student)"
   ]
  },
  {
   "cell_type": "code",
   "execution_count": 35,
   "id": "4d1d6c56",
   "metadata": {},
   "outputs": [],
   "source": [
    "# Terms relevant to cloud computing\n",
    "# It Resources > 물리적서버, 가상서버, 소프트웨어, 서비스, 저장 장치, 네트워크 장치\n",
    "# 빌려쓰자! 그게 클라우드 유지비용이 좀더 효율적"
   ]
  },
  {
   "cell_type": "code",
   "execution_count": 55,
   "id": "f356383b",
   "metadata": {},
   "outputs": [
    {
     "name": "stdout",
     "output_type": "stream",
     "text": [
      "초단위 값 : 3700\n",
      "3700초는 1시간 1분 40초입니다\n"
     ]
    }
   ],
   "source": [
    "#sec = 1000\n",
    "#mint = sec // 60\n",
    "#cho = 1000 - mint * 60\n",
    "#print(str(mint) + '분 ' + str(cho) + '초')\n",
    "\n",
    "second_ = int(input('초단위 값 : '))\n",
    "hour = second_ //3600\n",
    "rest = second_ % 3600\n",
    "minute = rest // 60\n",
    "second = rest % 60\n",
    "print('%d초는 %d시간 %d분 %d초입니다' % (second_, hour, minute, second))"
   ]
  },
  {
   "cell_type": "code",
   "execution_count": 49,
   "id": "441d85c3",
   "metadata": {},
   "outputs": [
    {
     "name": "stdout",
     "output_type": "stream",
     "text": [
      "살 수 있는 사탕 개수: 41개, 남은 돈 : 80원\n"
     ]
    }
   ],
   "source": [
    "money = 5000\n",
    "price = 120\n",
    "candy = money // 120\n",
    "charge = money - candy * 120 \n",
    "print('살 수 있는 사탕 개수: ' + str(candy) + '개, ' + '남은 돈 : ' + str(charge) + '원')\n"
   ]
  },
  {
   "cell_type": "code",
   "execution_count": 56,
   "id": "5bbd0043",
   "metadata": {},
   "outputs": [],
   "source": [
    "# decision making\n",
    "# if문, if else, elif\n",
    "# IF statement > true or false"
   ]
  },
  {
   "cell_type": "code",
   "execution_count": 61,
   "id": "946cc109",
   "metadata": {},
   "outputs": [
    {
     "name": "stdout",
     "output_type": "stream",
     "text": [
      "짐의 무게22\n",
      "20000원\n"
     ]
    }
   ],
   "source": [
    "pak = int(input('짐의 무게'))\n",
    "fee = None\n",
    "if pak >= 20 :\n",
    "    fee = 20000\n",
    "else :\n",
    "    fee = 0\n",
    "    \n",
    "print(str(fee) + '원')"
   ]
  },
  {
   "cell_type": "code",
   "execution_count": 69,
   "id": "9368a3cd",
   "metadata": {},
   "outputs": [
    {
     "name": "stdout",
     "output_type": "stream",
     "text": [
      "이름 : dd\n",
      "몸무게 : 74\n",
      "키 : 168\n",
      "26.218820861678008\n"
     ]
    }
   ],
   "source": [
    "# BMI 지수 만들기\n",
    "name = input('이름 : ')\n",
    "kg = int(input('몸무게 : '))\n",
    "cm = int(input('키 : ')) /100\n",
    "\n",
    "bmi = kg / cm **2\n",
    "result_bmi = None\n",
    "\n",
    "if bmi >= 35 :\n",
    "    result_bmi = '고도비만'\n",
    "elif bmi >= 20 :\n",
    "    result_bmi = '중도비만'\n",
    "elif bmi >= 10 : \n",
    "    result_bmi = '정상'\n",
    "else :\n",
    "    result_bmi = '저체중'\n",
    "    \n",
    "print(bmi\n",
    "     )"
   ]
  },
  {
   "cell_type": "code",
   "execution_count": 3,
   "id": "ac56912d",
   "metadata": {},
   "outputs": [
    {
     "name": "stdout",
     "output_type": "stream",
     "text": [
      "1 2 3 4 5 "
     ]
    }
   ],
   "source": [
    "# 반복문 Loops \n",
    "# while loop\n",
    "# for loop\n",
    "# for문은 범위가 정해져 있는 경우에 사용 에)n번 동안 반복\n",
    "# while문은 범위는 정해져 있지 않으나 조건에 어긋나기 전까지 반복\n",
    "\n",
    "\n",
    "for num in range(1, 6) : \n",
    "    print(num, end=' ')"
   ]
  },
  {
   "cell_type": "code",
   "execution_count": 4,
   "id": "c58349f4",
   "metadata": {},
   "outputs": [
    {
     "name": "stdout",
     "output_type": "stream",
     "text": [
      "7 14 21 28 35 42 49 56 63 70 77 84 91 98 "
     ]
    }
   ],
   "source": [
    "for num in range(1, 101) :\n",
    "    if num % 7 == 0 :\n",
    "        print(num, end=' ')"
   ]
  },
  {
   "cell_type": "code",
   "execution_count": 11,
   "id": "ed865e45",
   "metadata": {},
   "outputs": [
    {
     "name": "stdout",
     "output_type": "stream",
     "text": [
      "0\n",
      "6\n",
      "12\n",
      "18\n",
      "24\n",
      "30\n",
      "36\n",
      "42\n",
      "48\n",
      "54\n",
      "60\n",
      "66\n",
      "72\n",
      "78\n",
      "84\n",
      "90\n",
      "96\n"
     ]
    }
   ],
   "source": [
    "for i in range(0,50) :\n",
    "    if i % 3 ==0 :\n",
    "        j = i + i\n",
    "        print(j)"
   ]
  },
  {
   "cell_type": "code",
   "execution_count": 16,
   "id": "3680c9d8",
   "metadata": {},
   "outputs": [
    {
     "name": "stdout",
     "output_type": "stream",
     "text": [
      "A B C D E \n",
      "f g h i j \n",
      "K L M N O \n",
      "p q r s t \n",
      "U V W X Y \n",
      "z "
     ]
    }
   ],
   "source": [
    "count= 0\n",
    "line= 1\n",
    "for num in range(65, 91):\n",
    "    if line % 2 ==0 :\n",
    "        print(chr((num) + 32), end=' ')\n",
    "    else :\n",
    "        print(chr(num), end=' ')\n",
    "    count = count + 1\n",
    "    if count % 5 == 0 :\n",
    "        line = line + 1\n",
    "        print()"
   ]
  },
  {
   "cell_type": "code",
   "execution_count": 17,
   "id": "dd69579f",
   "metadata": {},
   "outputs": [
    {
     "name": "stdout",
     "output_type": "stream",
     "text": [
      "5050\n"
     ]
    }
   ],
   "source": [
    "def calcSum() :\n",
    "    sum = 0\n",
    "    for num in range(1, 101) :\n",
    "        sum += num\n",
    "    print(sum)\n",
    "\n",
    "calcSum()"
   ]
  },
  {
   "cell_type": "code",
   "execution_count": 30,
   "id": "f150d428",
   "metadata": {},
   "outputs": [],
   "source": [
    "def input_stu(stu) :\n",
    "    stu['name'] = input('Name : ')\n",
    "    stu['age'] = input('Age : ')\n",
    "\n",
    "def output_stu(stu) :\n",
    "    print(student_)\n",
    "    print('이름 = %s, 나이 = %s입니다.' % (stu['name'], stu['age']))"
   ]
  },
  {
   "cell_type": "code",
   "execution_count": 31,
   "id": "5e8d135a",
   "metadata": {},
   "outputs": [
    {
     "name": "stdout",
     "output_type": "stream",
     "text": [
      "Name : dd\n",
      "Age : \\dd\n"
     ]
    }
   ],
   "source": [
    "student_ = {}\n",
    "\n",
    "if __name__ == '__main__' :\n",
    "    input_stu(student_)\n",
    "    output_stu(student_)"
   ]
  },
  {
   "cell_type": "code",
   "execution_count": 32,
   "id": "5eba178b",
   "metadata": {},
   "outputs": [],
   "source": [
    "pip instaal nbconvert"
   ]
  },
  {
   "cell_type": "code",
   "execution_count": 1,
   "id": "ee57a442",
   "metadata": {},
   "outputs": [
    {
     "name": "stdout",
     "output_type": "stream",
     "text": [
      "Requirement already satisfied: nbconvert in /home/ubuntu/PythonHome/0221/lib/python3.10/site-packages (7.2.9)\n",
      "Requirement already satisfied: pandocfilters>=1.4.1 in /home/ubuntu/PythonHome/0221/lib/python3.10/site-packages (from nbconvert) (1.5.0)\n",
      "Requirement already satisfied: markupsafe>=2.0 in /home/ubuntu/PythonHome/0221/lib/python3.10/site-packages (from nbconvert) (2.1.2)\n",
      "Requirement already satisfied: bleach in /home/ubuntu/PythonHome/0221/lib/python3.10/site-packages (from nbconvert) (6.0.0)\n",
      "Requirement already satisfied: jupyter-core>=4.7 in /home/ubuntu/PythonHome/0221/lib/python3.10/site-packages (from nbconvert) (5.2.0)\n",
      "Requirement already satisfied: nbclient>=0.5.0 in /home/ubuntu/PythonHome/0221/lib/python3.10/site-packages (from nbconvert) (0.7.2)\n",
      "Requirement already satisfied: packaging in /home/ubuntu/PythonHome/0221/lib/python3.10/site-packages (from nbconvert) (23.0)\n",
      "Requirement already satisfied: pygments>=2.4.1 in /home/ubuntu/PythonHome/0221/lib/python3.10/site-packages (from nbconvert) (2.14.0)\n",
      "Requirement already satisfied: jinja2>=3.0 in /home/ubuntu/PythonHome/0221/lib/python3.10/site-packages (from nbconvert) (3.1.2)\n",
      "Requirement already satisfied: traitlets>=5.0 in /home/ubuntu/PythonHome/0221/lib/python3.10/site-packages (from nbconvert) (5.9.0)\n",
      "Requirement already satisfied: tinycss2 in /home/ubuntu/PythonHome/0221/lib/python3.10/site-packages (from nbconvert) (1.2.1)\n",
      "Requirement already satisfied: defusedxml in /home/ubuntu/PythonHome/0221/lib/python3.10/site-packages (from nbconvert) (0.7.1)\n",
      "Requirement already satisfied: mistune<3,>=2.0.3 in /home/ubuntu/PythonHome/0221/lib/python3.10/site-packages (from nbconvert) (2.0.5)\n",
      "Requirement already satisfied: nbformat>=5.1 in /home/ubuntu/PythonHome/0221/lib/python3.10/site-packages (from nbconvert) (5.7.3)\n",
      "Requirement already satisfied: beautifulsoup4 in /home/ubuntu/PythonHome/0221/lib/python3.10/site-packages (from nbconvert) (4.11.2)\n",
      "Requirement already satisfied: jupyterlab-pygments in /home/ubuntu/PythonHome/0221/lib/python3.10/site-packages (from nbconvert) (0.2.2)\n",
      "Requirement already satisfied: platformdirs>=2.5 in /home/ubuntu/PythonHome/0221/lib/python3.10/site-packages (from jupyter-core>=4.7->nbconvert) (3.0.0)\n",
      "Requirement already satisfied: jupyter-client>=6.1.12 in /home/ubuntu/PythonHome/0221/lib/python3.10/site-packages (from nbclient>=0.5.0->nbconvert) (8.0.3)\n",
      "Requirement already satisfied: jsonschema>=2.6 in /home/ubuntu/PythonHome/0221/lib/python3.10/site-packages (from nbformat>=5.1->nbconvert) (4.17.3)\n",
      "Requirement already satisfied: fastjsonschema in /home/ubuntu/PythonHome/0221/lib/python3.10/site-packages (from nbformat>=5.1->nbconvert) (2.16.2)\n",
      "Requirement already satisfied: soupsieve>1.2 in /home/ubuntu/PythonHome/0221/lib/python3.10/site-packages (from beautifulsoup4->nbconvert) (2.4)\n",
      "Requirement already satisfied: webencodings in /home/ubuntu/PythonHome/0221/lib/python3.10/site-packages (from bleach->nbconvert) (0.5.1)\n",
      "Requirement already satisfied: six>=1.9.0 in /home/ubuntu/PythonHome/0221/lib/python3.10/site-packages (from bleach->nbconvert) (1.16.0)\n",
      "Requirement already satisfied: pyrsistent!=0.17.0,!=0.17.1,!=0.17.2,>=0.14.0 in /home/ubuntu/PythonHome/0221/lib/python3.10/site-packages (from jsonschema>=2.6->nbformat>=5.1->nbconvert) (0.19.3)\n",
      "Requirement already satisfied: attrs>=17.4.0 in /home/ubuntu/PythonHome/0221/lib/python3.10/site-packages (from jsonschema>=2.6->nbformat>=5.1->nbconvert) (22.2.0)\n",
      "Requirement already satisfied: python-dateutil>=2.8.2 in /home/ubuntu/PythonHome/0221/lib/python3.10/site-packages (from jupyter-client>=6.1.12->nbclient>=0.5.0->nbconvert) (2.8.2)\n",
      "Requirement already satisfied: tornado>=6.2 in /home/ubuntu/PythonHome/0221/lib/python3.10/site-packages (from jupyter-client>=6.1.12->nbclient>=0.5.0->nbconvert) (6.2)\n",
      "Requirement already satisfied: pyzmq>=23.0 in /home/ubuntu/PythonHome/0221/lib/python3.10/site-packages (from jupyter-client>=6.1.12->nbclient>=0.5.0->nbconvert) (25.0.0)\n",
      "\n",
      "\u001b[1m[\u001b[0m\u001b[34;49mnotice\u001b[0m\u001b[1;39;49m]\u001b[0m\u001b[39;49m A new release of pip is available: \u001b[0m\u001b[31;49m23.0\u001b[0m\u001b[39;49m -> \u001b[0m\u001b[32;49m23.0.1\u001b[0m\n",
      "\u001b[1m[\u001b[0m\u001b[34;49mnotice\u001b[0m\u001b[1;39;49m]\u001b[0m\u001b[39;49m To update, run: \u001b[0m\u001b[32;49mpip install --upgrade pip\u001b[0m\n",
      "Note: you may need to restart the kernel to use updated packages.\n"
     ]
    }
   ],
   "source": [
    "pip install nbconvert"
   ]
  },
  {
   "cell_type": "code",
   "execution_count": 2,
   "id": "e84c4f8e",
   "metadata": {},
   "outputs": [],
   "source": [
    "import input_student"
   ]
  },
  {
   "cell_type": "code",
   "execution_count": null,
   "id": "72dfde95",
   "metadata": {},
   "outputs": [],
   "source": []
  }
 ],
 "metadata": {
  "kernelspec": {
   "display_name": "Python 3 (ipykernel)",
   "language": "python",
   "name": "python3"
  },
  "language_info": {
   "codemirror_mode": {
    "name": "ipython",
    "version": 3
   },
   "file_extension": ".py",
   "mimetype": "text/x-python",
   "name": "python",
   "nbconvert_exporter": "python",
   "pygments_lexer": "ipython3",
   "version": "3.10.6"
  }
 },
 "nbformat": 4,
 "nbformat_minor": 5
}
